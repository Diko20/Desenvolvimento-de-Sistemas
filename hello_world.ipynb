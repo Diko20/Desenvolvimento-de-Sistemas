{
 "cells": [
  {
   "cell_type": "code",
   "execution_count": null,
   "id": "dfe18bdc",
   "metadata": {},
   "outputs": [
    {
     "name": "stdout",
     "output_type": "stream",
     "text": [
      "Olá mundo!\n",
      "Rodrigo Raimundo\n"
     ]
    }
   ],
   "source": [
    "print(\"Olá mundo!\")\n",
    "print(\"Rodrigo Raimundo\")\n",
    "\n",
    "# x, y, z\n",
    "x = 4\n",
    "y = 2\n",
    "z = 10\n",
    "\n",
    "#----------------------------------------\n",
    "print(x + y) # soma\n",
    "print(z - x) # subtração\n",
    "print(y * y) # multiplição\n",
    "print(z/x) # divisão\n",
    "print(y**x) # potência\n",
    "#----------------------------------------"
   ]
  }
 ],
 "metadata": {
  "kernelspec": {
   "display_name": "Python 3",
   "language": "python",
   "name": "python3"
  },
  "language_info": {
   "codemirror_mode": {
    "name": "ipython",
    "version": 3
   },
   "file_extension": ".py",
   "mimetype": "text/x-python",
   "name": "python",
   "nbconvert_exporter": "python",
   "pygments_lexer": "ipython3",
   "version": "3.13.2"
  }
 },
 "nbformat": 4,
 "nbformat_minor": 5
}
